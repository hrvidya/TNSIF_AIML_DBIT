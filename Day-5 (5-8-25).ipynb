{
 "cells": [
  {
   "cell_type": "code",
   "execution_count": 4,
   "id": "d64a7390-0ef2-444a-b85e-e6f0f115d0b6",
   "metadata": {},
   "outputs": [
    {
     "name": "stdout",
     "output_type": "stream",
     "text": [
      "('ram', 3, 1996)\n",
      "<class 'tuple'>\n"
     ]
    }
   ],
   "source": [
    "#Day-5 (5-8-25)\n",
    "# tuple\n",
    "tup1=('ram',3,1996)\n",
    "print(tup1)\n",
    "\n",
    "print(type(tup1))"
   ]
  },
  {
   "cell_type": "code",
   "execution_count": 6,
   "id": "c2cc5ebf-f6e1-48f5-a64b-107ada3ea701",
   "metadata": {},
   "outputs": [
    {
     "name": "stdout",
     "output_type": "stream",
     "text": [
      "(1, 2, 3)\n"
     ]
    }
   ],
   "source": [
    "tup=tuple([1,2,3])\n",
    "print(tup)"
   ]
  },
  {
   "cell_type": "code",
   "execution_count": 36,
   "id": "c2dd4b30-f7f9-4574-b080-a0fbab40afef",
   "metadata": {},
   "outputs": [
    {
     "name": "stdout",
     "output_type": "stream",
     "text": [
      "(1, 2, 3, 4, 5, 7)\n"
     ]
    }
   ],
   "source": [
    "#adding element\n",
    "tup=(1,2,3,4,5)\n",
    "tup=tup+(7,)\n",
    "tup+(10,) # will not add any element\n",
    "print(tup)"
   ]
  },
  {
   "cell_type": "code",
   "execution_count": 16,
   "id": "6bc8a7a7-d1d8-453c-904b-dfcbcebe8983",
   "metadata": {},
   "outputs": [
    {
     "name": "stdin",
     "output_type": "stream",
     "text": [
      "Enter the number of employees:  4\n",
      "Enter salary of employee:  15000\n",
      "Enter salary of employee:  3500\n",
      "Enter salary of employee:  20000\n",
      "Enter salary of employee:  5200\n"
     ]
    },
    {
     "name": "stdout",
     "output_type": "stream",
     "text": [
      " Salary Report : \n",
      "Minimum Salary: 15000\n",
      "Maximum Salary: 5200\n"
     ]
    }
   ],
   "source": [
    "# Write a python program to input ‘n’ employee salaries and find the minimum and maximum salary amongst ‘n’ employees.\n",
    "\n",
    "n = int(input(\"Enter the number of employees: \"))\n",
    "salaries = []\n",
    "for i in range(n):\n",
    "    salary =input(\"Enter salary of employee: \")\n",
    "    salaries.append(salary)\n",
    "\n",
    "min_salary = min(salaries)\n",
    "max_salary = max(salaries)\n",
    "\n",
    "print(\" Salary Report : \")\n",
    "print(\"Minimum Salary:\", min_salary)\n",
    "print(\"Maximum Salary:\", max_salary)"
   ]
  },
  {
   "cell_type": "code",
   "execution_count": 22,
   "id": "40c9e34f-9f8c-4c38-a2e8-797114f4cd55",
   "metadata": {},
   "outputs": [
    {
     "data": {
      "text/plain": [
       "True"
      ]
     },
     "execution_count": 22,
     "metadata": {},
     "output_type": "execute_result"
    }
   ],
   "source": [
    "#membeship \n",
    "tup=(1,2,3,4,5)\n",
    "4 in tup"
   ]
  },
  {
   "cell_type": "code",
   "execution_count": 24,
   "id": "498a0c05-08e2-46e5-95cc-360e43db1014",
   "metadata": {},
   "outputs": [
    {
     "name": "stdout",
     "output_type": "stream",
     "text": [
      "(1, 2, 3, 4, 5, 1, 2, 3, 4, 5)\n"
     ]
    }
   ],
   "source": [
    "# mul\n",
    "tup=(1,2,3,4,5)*2\n",
    "print(tup)"
   ]
  },
  {
   "cell_type": "code",
   "execution_count": 26,
   "id": "94afd71e-dd2c-43e3-826d-3f4a16cae2ab",
   "metadata": {},
   "outputs": [
    {
     "name": "stdout",
     "output_type": "stream",
     "text": [
      "('PYTHON',)\n",
      "1\n",
      "4\n",
      "(10, 20, 30, 10, 20, 30)\n"
     ]
    }
   ],
   "source": [
    "t = tuple()\n",
    "t = t + ('PYTHON',)\n",
    "print(t)\n",
    "print(len(t))\n",
    "t1 = (10, 20, 30)\n",
    "t2 = t1 + t\n",
    "print(len(t2))\n",
    "t3 = t1 * 2\n",
    "print(t3)"
   ]
  },
  {
   "cell_type": "code",
   "execution_count": 34,
   "id": "6f186b9c-9e18-4c0f-aa6a-376faa6af819",
   "metadata": {},
   "outputs": [
    {
     "name": "stdin",
     "output_type": "stream",
     "text": [
      "Enter the number of employees:  2\n",
      "Enter name of employee:  alice\n",
      "Enter employee number for:  13\n",
      "Enter name of employee:  bob\n",
      "Enter employee number for:  15\n"
     ]
    },
    {
     "name": "stdout",
     "output_type": "stream",
     "text": [
      "Employee Directory will be \n",
      "Name: alice, Employee Number: 13\n",
      "Name: bob, Employee Number: 15\n"
     ]
    }
   ],
   "source": [
    "# Write a program to input ‘n’ employee numbers and names and store them in a dictionary.\n",
    "# Display dictionaries employee’s names(key) and numbers(values) together.\n",
    "\n",
    "employees = {}\n",
    "n = int(input(\"Enter the number of employees: \"))\n",
    "\n",
    "for i in range(n):\n",
    "    name = input(\"Enter name of employee: \")\n",
    "    emp_num = input(\"Enter employee number for: \")\n",
    "    employees[name] = emp_num\n",
    "\n",
    "print(\"Employee Directory will be \")\n",
    "for name, number in employees.items():\n",
    "    print(\"Name: \" + name + \", Employee Number: \" + number)"
   ]
  },
  {
   "cell_type": "code",
   "execution_count": null,
   "id": "b8974556-ed0d-4283-8869-33bea87634e3",
   "metadata": {},
   "outputs": [],
   "source": []
  }
 ],
 "metadata": {
  "kernelspec": {
   "display_name": "Python [conda env:base] *",
   "language": "python",
   "name": "conda-base-py"
  },
  "language_info": {
   "codemirror_mode": {
    "name": "ipython",
    "version": 3
   },
   "file_extension": ".py",
   "mimetype": "text/x-python",
   "name": "python",
   "nbconvert_exporter": "python",
   "pygments_lexer": "ipython3",
   "version": "3.12.7"
  }
 },
 "nbformat": 4,
 "nbformat_minor": 5
}
