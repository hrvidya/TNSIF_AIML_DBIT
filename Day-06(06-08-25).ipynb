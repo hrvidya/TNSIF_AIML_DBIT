{
 "cells": [
  {
   "cell_type": "code",
   "execution_count": 2,
   "id": "a2f83917-c4d6-443d-9516-8d9f4f893e3d",
   "metadata": {},
   "outputs": [
    {
     "ename": "SyntaxError",
     "evalue": "invalid syntax (735737453.py, line 3)",
     "output_type": "error",
     "traceback": [
      "\u001b[1;36m  Cell \u001b[1;32mIn[2], line 3\u001b[1;36m\u001b[0m\n\u001b[1;33m    Creating arrays\u001b[0m\n\u001b[1;37m             ^\u001b[0m\n\u001b[1;31mSyntaxError\u001b[0m\u001b[1;31m:\u001b[0m invalid syntax\n"
     ]
    }
   ],
   "source": [
    "import numpy as np\n",
    "arr1= np.array([1, 2, 3, 4, 5])\n",
    "arr2 =np.array([[1, 2, 3], [4, 5, 6]])\n",
    "print(arr1 *2) \n",
    "print(arr1+ arr1)\n",
    "arr3 =np.arange(12).reshape(3, 4) \n",
    "print(arr3)\n",
    "matrix1= np.array([[1, 2], [3, 4]]) \n",
    "matrix2 = np.array([[5, 6], [7, 8]]) \n",
    "print(np.dot(matrix1, matrix2))\n",
    "data =np.random.normal(0, 1, 1000) #1000 random numbers from normal distributio print(f\"Mean: (data.mean()), Std: (data.std())\")"
   ]
  },
  {
   "cell_type": "code",
   "execution_count": null,
   "id": "bb6bc56f-f62f-4734-ab66-dc0da312b0b7",
   "metadata": {},
   "outputs": [],
   "source": []
  }
 ],
 "metadata": {
  "kernelspec": {
   "display_name": "Python [conda env:base] *",
   "language": "python",
   "name": "conda-base-py"
  },
  "language_info": {
   "codemirror_mode": {
    "name": "ipython",
    "version": 3
   },
   "file_extension": ".py",
   "mimetype": "text/x-python",
   "name": "python",
   "nbconvert_exporter": "python",
   "pygments_lexer": "ipython3",
   "version": "3.12.7"
  }
 },
 "nbformat": 4,
 "nbformat_minor": 5
}
